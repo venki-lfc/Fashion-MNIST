{
  "nbformat": 4,
  "nbformat_minor": 0,
  "metadata": {
    "colab": {
      "name": "Fashion_MNIST_Venki.ipynb",
      "provenance": [],
      "collapsed_sections": []
    },
    "kernelspec": {
      "name": "python3",
      "display_name": "Python 3"
    }
  },
  "cells": [
    {
      "cell_type": "markdown",
      "metadata": {
        "id": "1sEVbRXDcpsG"
      },
      "source": [
        "**Importing the necessary libraries**"
      ]
    },
    {
      "cell_type": "code",
      "metadata": {
        "id": "Imb55ckPAaFW"
      },
      "source": [
        "import numpy as np\r\n",
        "import pandas as pd\r\n",
        "import matplotlib.pyplot as plt\r\n",
        "import tensorflow as tf\r\n",
        "from sklearn.model_selection import train_test_split\r\n",
        "from sklearn.preprocessing import OneHotEncoder\r\n",
        "from tensorflow.keras import Model\r\n",
        "from tensorflow.keras.layers import Dense, Conv2D, MaxPool2D, BatchNormalization, Input, Flatten\r\n",
        "from tensorflow.keras.activations import relu"
      ],
      "execution_count": 98,
      "outputs": []
    },
    {
      "cell_type": "markdown",
      "metadata": {
        "id": "qZsjIs1icyfU"
      },
      "source": [
        "**Mounting the Google Drive and Loading the Data**"
      ]
    },
    {
      "cell_type": "code",
      "metadata": {
        "colab": {
          "base_uri": "https://localhost:8080/"
        },
        "id": "pHXgVkdMC4Am",
        "outputId": "8cbf1440-9216-491b-9b60-283a82b9e73f"
      },
      "source": [
        "from google.colab import drive\r\n",
        "drive.mount(\"/content/drive\")"
      ],
      "execution_count": 99,
      "outputs": [
        {
          "output_type": "stream",
          "text": [
            "Drive already mounted at /content/drive; to attempt to forcibly remount, call drive.mount(\"/content/drive\", force_remount=True).\n"
          ],
          "name": "stdout"
        }
      ]
    },
    {
      "cell_type": "code",
      "metadata": {
        "id": "M3xpbcEgBgmH"
      },
      "source": [
        "df_train = pd.read_csv(\"/content/drive/MyDrive/Fashion_MNIST/fashion-mnist_train.csv\")\r\n",
        "df_test = pd.read_csv(\"/content/drive/MyDrive/Fashion_MNIST/fashion-mnist_test.csv\")"
      ],
      "execution_count": 100,
      "outputs": []
    },
    {
      "cell_type": "code",
      "metadata": {
        "id": "xTJcjorf87C3"
      },
      "source": [
        "label_dict = {\r\n",
        "    0: \"T-shirt/top\",\r\n",
        "    1: \"Trouser\",\r\n",
        "    2: \"Pullover\",\r\n",
        "    3: \"Dress\",\r\n",
        "    4: \"Coat\",\r\n",
        "    5: \"Sandal\",\r\n",
        "    6: \"Shirt\",\r\n",
        "    7: \"Sneaker\",\r\n",
        "    8: \"Bag\",\r\n",
        "    9: \"Ankle boot\"\r\n",
        "}"
      ],
      "execution_count": 101,
      "outputs": []
    },
    {
      "cell_type": "code",
      "metadata": {
        "colab": {
          "base_uri": "https://localhost:8080/",
          "height": 244
        },
        "id": "urkuA7BO3iZT",
        "outputId": "6e551943-2482-4508-92ac-2e31b92d3f88"
      },
      "source": [
        "df_train.head()"
      ],
      "execution_count": 102,
      "outputs": [
        {
          "output_type": "execute_result",
          "data": {
            "text/html": [
              "<div>\n",
              "<style scoped>\n",
              "    .dataframe tbody tr th:only-of-type {\n",
              "        vertical-align: middle;\n",
              "    }\n",
              "\n",
              "    .dataframe tbody tr th {\n",
              "        vertical-align: top;\n",
              "    }\n",
              "\n",
              "    .dataframe thead th {\n",
              "        text-align: right;\n",
              "    }\n",
              "</style>\n",
              "<table border=\"1\" class=\"dataframe\">\n",
              "  <thead>\n",
              "    <tr style=\"text-align: right;\">\n",
              "      <th></th>\n",
              "      <th>label</th>\n",
              "      <th>pixel1</th>\n",
              "      <th>pixel2</th>\n",
              "      <th>pixel3</th>\n",
              "      <th>pixel4</th>\n",
              "      <th>pixel5</th>\n",
              "      <th>pixel6</th>\n",
              "      <th>pixel7</th>\n",
              "      <th>pixel8</th>\n",
              "      <th>pixel9</th>\n",
              "      <th>pixel10</th>\n",
              "      <th>pixel11</th>\n",
              "      <th>pixel12</th>\n",
              "      <th>pixel13</th>\n",
              "      <th>pixel14</th>\n",
              "      <th>pixel15</th>\n",
              "      <th>pixel16</th>\n",
              "      <th>pixel17</th>\n",
              "      <th>pixel18</th>\n",
              "      <th>pixel19</th>\n",
              "      <th>pixel20</th>\n",
              "      <th>pixel21</th>\n",
              "      <th>pixel22</th>\n",
              "      <th>pixel23</th>\n",
              "      <th>pixel24</th>\n",
              "      <th>pixel25</th>\n",
              "      <th>pixel26</th>\n",
              "      <th>pixel27</th>\n",
              "      <th>pixel28</th>\n",
              "      <th>pixel29</th>\n",
              "      <th>pixel30</th>\n",
              "      <th>pixel31</th>\n",
              "      <th>pixel32</th>\n",
              "      <th>pixel33</th>\n",
              "      <th>pixel34</th>\n",
              "      <th>pixel35</th>\n",
              "      <th>pixel36</th>\n",
              "      <th>pixel37</th>\n",
              "      <th>pixel38</th>\n",
              "      <th>pixel39</th>\n",
              "      <th>...</th>\n",
              "      <th>pixel745</th>\n",
              "      <th>pixel746</th>\n",
              "      <th>pixel747</th>\n",
              "      <th>pixel748</th>\n",
              "      <th>pixel749</th>\n",
              "      <th>pixel750</th>\n",
              "      <th>pixel751</th>\n",
              "      <th>pixel752</th>\n",
              "      <th>pixel753</th>\n",
              "      <th>pixel754</th>\n",
              "      <th>pixel755</th>\n",
              "      <th>pixel756</th>\n",
              "      <th>pixel757</th>\n",
              "      <th>pixel758</th>\n",
              "      <th>pixel759</th>\n",
              "      <th>pixel760</th>\n",
              "      <th>pixel761</th>\n",
              "      <th>pixel762</th>\n",
              "      <th>pixel763</th>\n",
              "      <th>pixel764</th>\n",
              "      <th>pixel765</th>\n",
              "      <th>pixel766</th>\n",
              "      <th>pixel767</th>\n",
              "      <th>pixel768</th>\n",
              "      <th>pixel769</th>\n",
              "      <th>pixel770</th>\n",
              "      <th>pixel771</th>\n",
              "      <th>pixel772</th>\n",
              "      <th>pixel773</th>\n",
              "      <th>pixel774</th>\n",
              "      <th>pixel775</th>\n",
              "      <th>pixel776</th>\n",
              "      <th>pixel777</th>\n",
              "      <th>pixel778</th>\n",
              "      <th>pixel779</th>\n",
              "      <th>pixel780</th>\n",
              "      <th>pixel781</th>\n",
              "      <th>pixel782</th>\n",
              "      <th>pixel783</th>\n",
              "      <th>pixel784</th>\n",
              "    </tr>\n",
              "  </thead>\n",
              "  <tbody>\n",
              "    <tr>\n",
              "      <th>0</th>\n",
              "      <td>2</td>\n",
              "      <td>0</td>\n",
              "      <td>0</td>\n",
              "      <td>0</td>\n",
              "      <td>0</td>\n",
              "      <td>0</td>\n",
              "      <td>0</td>\n",
              "      <td>0</td>\n",
              "      <td>0</td>\n",
              "      <td>0</td>\n",
              "      <td>0</td>\n",
              "      <td>0</td>\n",
              "      <td>0</td>\n",
              "      <td>0</td>\n",
              "      <td>0</td>\n",
              "      <td>0</td>\n",
              "      <td>0</td>\n",
              "      <td>0</td>\n",
              "      <td>0</td>\n",
              "      <td>0</td>\n",
              "      <td>0</td>\n",
              "      <td>0</td>\n",
              "      <td>0</td>\n",
              "      <td>0</td>\n",
              "      <td>0</td>\n",
              "      <td>0</td>\n",
              "      <td>0</td>\n",
              "      <td>0</td>\n",
              "      <td>0</td>\n",
              "      <td>0</td>\n",
              "      <td>0</td>\n",
              "      <td>0</td>\n",
              "      <td>0</td>\n",
              "      <td>0</td>\n",
              "      <td>0</td>\n",
              "      <td>0</td>\n",
              "      <td>0</td>\n",
              "      <td>0</td>\n",
              "      <td>0</td>\n",
              "      <td>0</td>\n",
              "      <td>...</td>\n",
              "      <td>0</td>\n",
              "      <td>0</td>\n",
              "      <td>0</td>\n",
              "      <td>0</td>\n",
              "      <td>0</td>\n",
              "      <td>0</td>\n",
              "      <td>0</td>\n",
              "      <td>0</td>\n",
              "      <td>0</td>\n",
              "      <td>0</td>\n",
              "      <td>0</td>\n",
              "      <td>0</td>\n",
              "      <td>0</td>\n",
              "      <td>0</td>\n",
              "      <td>0</td>\n",
              "      <td>0</td>\n",
              "      <td>0</td>\n",
              "      <td>0</td>\n",
              "      <td>0</td>\n",
              "      <td>0</td>\n",
              "      <td>0</td>\n",
              "      <td>0</td>\n",
              "      <td>0</td>\n",
              "      <td>0</td>\n",
              "      <td>0</td>\n",
              "      <td>0</td>\n",
              "      <td>0</td>\n",
              "      <td>0</td>\n",
              "      <td>0</td>\n",
              "      <td>0</td>\n",
              "      <td>0</td>\n",
              "      <td>0</td>\n",
              "      <td>0</td>\n",
              "      <td>0</td>\n",
              "      <td>0</td>\n",
              "      <td>0</td>\n",
              "      <td>0</td>\n",
              "      <td>0</td>\n",
              "      <td>0</td>\n",
              "      <td>0</td>\n",
              "    </tr>\n",
              "    <tr>\n",
              "      <th>1</th>\n",
              "      <td>9</td>\n",
              "      <td>0</td>\n",
              "      <td>0</td>\n",
              "      <td>0</td>\n",
              "      <td>0</td>\n",
              "      <td>0</td>\n",
              "      <td>0</td>\n",
              "      <td>0</td>\n",
              "      <td>0</td>\n",
              "      <td>0</td>\n",
              "      <td>0</td>\n",
              "      <td>0</td>\n",
              "      <td>0</td>\n",
              "      <td>0</td>\n",
              "      <td>0</td>\n",
              "      <td>0</td>\n",
              "      <td>0</td>\n",
              "      <td>0</td>\n",
              "      <td>0</td>\n",
              "      <td>0</td>\n",
              "      <td>0</td>\n",
              "      <td>0</td>\n",
              "      <td>0</td>\n",
              "      <td>0</td>\n",
              "      <td>0</td>\n",
              "      <td>0</td>\n",
              "      <td>0</td>\n",
              "      <td>0</td>\n",
              "      <td>0</td>\n",
              "      <td>0</td>\n",
              "      <td>0</td>\n",
              "      <td>0</td>\n",
              "      <td>0</td>\n",
              "      <td>0</td>\n",
              "      <td>0</td>\n",
              "      <td>0</td>\n",
              "      <td>0</td>\n",
              "      <td>0</td>\n",
              "      <td>0</td>\n",
              "      <td>0</td>\n",
              "      <td>...</td>\n",
              "      <td>0</td>\n",
              "      <td>0</td>\n",
              "      <td>0</td>\n",
              "      <td>0</td>\n",
              "      <td>0</td>\n",
              "      <td>0</td>\n",
              "      <td>0</td>\n",
              "      <td>0</td>\n",
              "      <td>0</td>\n",
              "      <td>0</td>\n",
              "      <td>0</td>\n",
              "      <td>0</td>\n",
              "      <td>0</td>\n",
              "      <td>0</td>\n",
              "      <td>0</td>\n",
              "      <td>0</td>\n",
              "      <td>0</td>\n",
              "      <td>0</td>\n",
              "      <td>0</td>\n",
              "      <td>0</td>\n",
              "      <td>0</td>\n",
              "      <td>0</td>\n",
              "      <td>0</td>\n",
              "      <td>0</td>\n",
              "      <td>0</td>\n",
              "      <td>0</td>\n",
              "      <td>0</td>\n",
              "      <td>0</td>\n",
              "      <td>0</td>\n",
              "      <td>0</td>\n",
              "      <td>0</td>\n",
              "      <td>0</td>\n",
              "      <td>0</td>\n",
              "      <td>0</td>\n",
              "      <td>0</td>\n",
              "      <td>0</td>\n",
              "      <td>0</td>\n",
              "      <td>0</td>\n",
              "      <td>0</td>\n",
              "      <td>0</td>\n",
              "    </tr>\n",
              "    <tr>\n",
              "      <th>2</th>\n",
              "      <td>6</td>\n",
              "      <td>0</td>\n",
              "      <td>0</td>\n",
              "      <td>0</td>\n",
              "      <td>0</td>\n",
              "      <td>0</td>\n",
              "      <td>0</td>\n",
              "      <td>0</td>\n",
              "      <td>5</td>\n",
              "      <td>0</td>\n",
              "      <td>0</td>\n",
              "      <td>0</td>\n",
              "      <td>105</td>\n",
              "      <td>92</td>\n",
              "      <td>101</td>\n",
              "      <td>107</td>\n",
              "      <td>100</td>\n",
              "      <td>132</td>\n",
              "      <td>0</td>\n",
              "      <td>0</td>\n",
              "      <td>2</td>\n",
              "      <td>4</td>\n",
              "      <td>0</td>\n",
              "      <td>1</td>\n",
              "      <td>0</td>\n",
              "      <td>0</td>\n",
              "      <td>0</td>\n",
              "      <td>0</td>\n",
              "      <td>0</td>\n",
              "      <td>0</td>\n",
              "      <td>0</td>\n",
              "      <td>0</td>\n",
              "      <td>0</td>\n",
              "      <td>0</td>\n",
              "      <td>0</td>\n",
              "      <td>0</td>\n",
              "      <td>0</td>\n",
              "      <td>0</td>\n",
              "      <td>0</td>\n",
              "      <td>150</td>\n",
              "      <td>...</td>\n",
              "      <td>211</td>\n",
              "      <td>220</td>\n",
              "      <td>214</td>\n",
              "      <td>74</td>\n",
              "      <td>0</td>\n",
              "      <td>255</td>\n",
              "      <td>222</td>\n",
              "      <td>128</td>\n",
              "      <td>0</td>\n",
              "      <td>0</td>\n",
              "      <td>0</td>\n",
              "      <td>0</td>\n",
              "      <td>0</td>\n",
              "      <td>0</td>\n",
              "      <td>0</td>\n",
              "      <td>0</td>\n",
              "      <td>0</td>\n",
              "      <td>44</td>\n",
              "      <td>12</td>\n",
              "      <td>0</td>\n",
              "      <td>0</td>\n",
              "      <td>40</td>\n",
              "      <td>134</td>\n",
              "      <td>162</td>\n",
              "      <td>191</td>\n",
              "      <td>214</td>\n",
              "      <td>163</td>\n",
              "      <td>146</td>\n",
              "      <td>165</td>\n",
              "      <td>79</td>\n",
              "      <td>0</td>\n",
              "      <td>0</td>\n",
              "      <td>0</td>\n",
              "      <td>30</td>\n",
              "      <td>43</td>\n",
              "      <td>0</td>\n",
              "      <td>0</td>\n",
              "      <td>0</td>\n",
              "      <td>0</td>\n",
              "      <td>0</td>\n",
              "    </tr>\n",
              "    <tr>\n",
              "      <th>3</th>\n",
              "      <td>0</td>\n",
              "      <td>0</td>\n",
              "      <td>0</td>\n",
              "      <td>0</td>\n",
              "      <td>1</td>\n",
              "      <td>2</td>\n",
              "      <td>0</td>\n",
              "      <td>0</td>\n",
              "      <td>0</td>\n",
              "      <td>0</td>\n",
              "      <td>0</td>\n",
              "      <td>114</td>\n",
              "      <td>183</td>\n",
              "      <td>112</td>\n",
              "      <td>55</td>\n",
              "      <td>23</td>\n",
              "      <td>72</td>\n",
              "      <td>102</td>\n",
              "      <td>165</td>\n",
              "      <td>160</td>\n",
              "      <td>28</td>\n",
              "      <td>0</td>\n",
              "      <td>0</td>\n",
              "      <td>0</td>\n",
              "      <td>1</td>\n",
              "      <td>0</td>\n",
              "      <td>0</td>\n",
              "      <td>0</td>\n",
              "      <td>0</td>\n",
              "      <td>0</td>\n",
              "      <td>0</td>\n",
              "      <td>0</td>\n",
              "      <td>0</td>\n",
              "      <td>1</td>\n",
              "      <td>0</td>\n",
              "      <td>0</td>\n",
              "      <td>24</td>\n",
              "      <td>188</td>\n",
              "      <td>163</td>\n",
              "      <td>93</td>\n",
              "      <td>...</td>\n",
              "      <td>171</td>\n",
              "      <td>249</td>\n",
              "      <td>207</td>\n",
              "      <td>197</td>\n",
              "      <td>202</td>\n",
              "      <td>45</td>\n",
              "      <td>0</td>\n",
              "      <td>3</td>\n",
              "      <td>0</td>\n",
              "      <td>0</td>\n",
              "      <td>0</td>\n",
              "      <td>0</td>\n",
              "      <td>0</td>\n",
              "      <td>0</td>\n",
              "      <td>0</td>\n",
              "      <td>0</td>\n",
              "      <td>0</td>\n",
              "      <td>0</td>\n",
              "      <td>1</td>\n",
              "      <td>0</td>\n",
              "      <td>0</td>\n",
              "      <td>0</td>\n",
              "      <td>22</td>\n",
              "      <td>21</td>\n",
              "      <td>25</td>\n",
              "      <td>69</td>\n",
              "      <td>52</td>\n",
              "      <td>45</td>\n",
              "      <td>74</td>\n",
              "      <td>39</td>\n",
              "      <td>3</td>\n",
              "      <td>0</td>\n",
              "      <td>0</td>\n",
              "      <td>0</td>\n",
              "      <td>0</td>\n",
              "      <td>1</td>\n",
              "      <td>0</td>\n",
              "      <td>0</td>\n",
              "      <td>0</td>\n",
              "      <td>0</td>\n",
              "    </tr>\n",
              "    <tr>\n",
              "      <th>4</th>\n",
              "      <td>3</td>\n",
              "      <td>0</td>\n",
              "      <td>0</td>\n",
              "      <td>0</td>\n",
              "      <td>0</td>\n",
              "      <td>0</td>\n",
              "      <td>0</td>\n",
              "      <td>0</td>\n",
              "      <td>0</td>\n",
              "      <td>0</td>\n",
              "      <td>0</td>\n",
              "      <td>0</td>\n",
              "      <td>0</td>\n",
              "      <td>46</td>\n",
              "      <td>0</td>\n",
              "      <td>21</td>\n",
              "      <td>68</td>\n",
              "      <td>0</td>\n",
              "      <td>0</td>\n",
              "      <td>0</td>\n",
              "      <td>0</td>\n",
              "      <td>0</td>\n",
              "      <td>0</td>\n",
              "      <td>0</td>\n",
              "      <td>0</td>\n",
              "      <td>0</td>\n",
              "      <td>0</td>\n",
              "      <td>0</td>\n",
              "      <td>0</td>\n",
              "      <td>0</td>\n",
              "      <td>0</td>\n",
              "      <td>0</td>\n",
              "      <td>0</td>\n",
              "      <td>0</td>\n",
              "      <td>0</td>\n",
              "      <td>0</td>\n",
              "      <td>0</td>\n",
              "      <td>25</td>\n",
              "      <td>187</td>\n",
              "      <td>189</td>\n",
              "      <td>...</td>\n",
              "      <td>230</td>\n",
              "      <td>237</td>\n",
              "      <td>229</td>\n",
              "      <td>0</td>\n",
              "      <td>0</td>\n",
              "      <td>1</td>\n",
              "      <td>0</td>\n",
              "      <td>0</td>\n",
              "      <td>0</td>\n",
              "      <td>0</td>\n",
              "      <td>0</td>\n",
              "      <td>0</td>\n",
              "      <td>0</td>\n",
              "      <td>0</td>\n",
              "      <td>0</td>\n",
              "      <td>0</td>\n",
              "      <td>0</td>\n",
              "      <td>0</td>\n",
              "      <td>0</td>\n",
              "      <td>0</td>\n",
              "      <td>0</td>\n",
              "      <td>68</td>\n",
              "      <td>116</td>\n",
              "      <td>112</td>\n",
              "      <td>136</td>\n",
              "      <td>147</td>\n",
              "      <td>144</td>\n",
              "      <td>121</td>\n",
              "      <td>102</td>\n",
              "      <td>63</td>\n",
              "      <td>0</td>\n",
              "      <td>0</td>\n",
              "      <td>0</td>\n",
              "      <td>0</td>\n",
              "      <td>0</td>\n",
              "      <td>0</td>\n",
              "      <td>0</td>\n",
              "      <td>0</td>\n",
              "      <td>0</td>\n",
              "      <td>0</td>\n",
              "    </tr>\n",
              "  </tbody>\n",
              "</table>\n",
              "<p>5 rows × 785 columns</p>\n",
              "</div>"
            ],
            "text/plain": [
              "   label  pixel1  pixel2  pixel3  ...  pixel781  pixel782  pixel783  pixel784\n",
              "0      2       0       0       0  ...         0         0         0         0\n",
              "1      9       0       0       0  ...         0         0         0         0\n",
              "2      6       0       0       0  ...         0         0         0         0\n",
              "3      0       0       0       0  ...         0         0         0         0\n",
              "4      3       0       0       0  ...         0         0         0         0\n",
              "\n",
              "[5 rows x 785 columns]"
            ]
          },
          "metadata": {
            "tags": []
          },
          "execution_count": 102
        }
      ]
    },
    {
      "cell_type": "markdown",
      "metadata": {
        "id": "WjQyVEv6c_OB"
      },
      "source": [
        "**Preparing the Dataset**"
      ]
    },
    {
      "cell_type": "code",
      "metadata": {
        "id": "2uZxvAO-DgG6"
      },
      "source": [
        "df_train_output = df_train.pop(\"label\") # taking out output from the dataframe\r\n",
        "df_test_output = df_test.pop(\"label\")"
      ],
      "execution_count": 103,
      "outputs": []
    },
    {
      "cell_type": "code",
      "metadata": {
        "id": "nZ7Kp4zzD1IA"
      },
      "source": [
        "df_train_input = df_train.copy() # the copying the input dataframe\r\n",
        "df_test_input = df_test.copy()"
      ],
      "execution_count": 104,
      "outputs": []
    },
    {
      "cell_type": "code",
      "metadata": {
        "id": "0JRqMRwPJyob"
      },
      "source": [
        "def preprocess_data(df_input, df_output, width, height):\r\n",
        "  \"\"\"\r\n",
        "  Inputs:\r\n",
        "  1. df_input = input pandas dataframe\r\n",
        "  2. df_output = output pandas dataframe (must contain only one column)\r\n",
        "  3. width - size of the width you want the vector to be transformed (int)\r\n",
        "  4. height - size of the height you want the vector to become transformed (int)\r\n",
        "\r\n",
        "  Returns:\r\n",
        "  1. np_i - input array without normalising (numpy)\r\n",
        "  2. np_i_scaled - normalized input array (numpy)\r\n",
        "  3. np_o - output array without OneHotEncoding (numpy)\r\n",
        "  4. np_o_ohe - output array with OneHotEncoding (numpy)\r\n",
        "  5. ohe - the fitted OneHotEncoder \r\n",
        "  \"\"\"\r\n",
        "  df_i = df_input.copy()\r\n",
        "  df_o = df_output.copy()\r\n",
        "\r\n",
        "  np_i = df_i.to_numpy(\"float32\")  # converting to numpy format\r\n",
        "  np_i = np.reshape(np_i, (-1, width, height, 1))  # reshaping the vector into 2D array \r\n",
        "  np_i_scaled = (np_i - 127.5) / 127.5  # normalizing the input features between 0 and 1\r\n",
        "  \r\n",
        "  np_o = df_o.to_numpy(\"float32\")\r\n",
        "  np_o = np.reshape(np_o, (-1,1))  # if previous shape was (None,) it will be changed to (None, 1)\r\n",
        "  ohe = OneHotEncoder()  # using one-hot encoder\r\n",
        "  np_o_ohe = ohe.fit_transform(np_o).toarray()\r\n",
        "\r\n",
        "  return np_i, np_i_scaled, np_o, np_o_ohe, ohe"
      ],
      "execution_count": 105,
      "outputs": []
    },
    {
      "cell_type": "code",
      "metadata": {
        "id": "WoeICkRINuBU"
      },
      "source": [
        "np_train_input, np_train_input_scaled, np_train_output, np_train_output_ohe, ohe = preprocess_data(df_train_input, df_train_output, 28, 28)\r\n",
        "np_test_input, X_test, np_test_output, Y_test, _ = preprocess_data(df_test_input, df_test_output, 28, 28)"
      ],
      "execution_count": 106,
      "outputs": []
    },
    {
      "cell_type": "code",
      "metadata": {
        "id": "pfuLyEr8Fu1X"
      },
      "source": [
        "X_train, X_val, Y_train, Y_val = train_test_split(np_train_input_scaled, np_train_output_ohe, test_size=0.2, shuffle=True, random_state=10)  # Creating training and validation data "
      ],
      "execution_count": 107,
      "outputs": []
    },
    {
      "cell_type": "markdown",
      "metadata": {
        "id": "0hM571ZF_TDy"
      },
      "source": [
        "**Viewing the Dataset**"
      ]
    },
    {
      "cell_type": "code",
      "metadata": {
        "colab": {
          "base_uri": "https://localhost:8080/",
          "height": 607
        },
        "id": "El9PHZVI4Clz",
        "outputId": "bc0b7dab-0602-4174-edd8-990a2aadc693"
      },
      "source": [
        "view_array = np.random.randint(0, len(X_train), size=9)\r\n",
        "fig,ax = plt.subplots(3, 3, figsize = (10,10))\r\n",
        "ax = ax.ravel()\r\n",
        "for i in range(0,9):\r\n",
        "    ax[i].imshow(np.squeeze(X_train[view_array[i]])) # squeezing from (28,28,1) to (28,28) for imshow\r\n",
        "    title = label_dict[ohe.inverse_transform(Y_train)[view_array[i]][0]]  # reverse transforming onehot array and accessing the label's name\r\n",
        "    # in label_dict for the given number. Examine the line separately if you are confused. \r\n",
        "    ax[i].title.set_text(title)"
      ],
      "execution_count": 108,
      "outputs": [
        {
          "output_type": "display_data",
          "data": {
            "image/png": "[encoded data removed]",
            "text/plain": [
              "<Figure size 720x720 with 9 Axes>"
            ]
          },
          "metadata": {
            "tags": [],
            "needs_background": "light"
          }
        }
      ]
    },
    {
      "cell_type": "markdown",
      "metadata": {
        "id": "rDxCYE_EAiav"
      },
      "source": [
        "**Defining and Compiling the CNN Model**"
      ]
    },
    {
      "cell_type": "code",
      "metadata": {
        "id": "XWpH2_KfO9JN"
      },
      "source": [
        "def define_model():\r\n",
        "  \"\"\"\r\n",
        "  Batch Normalisation is used to train the NN faster and allows us to use higher learning rates.\r\n",
        "  Use it after the Conv2D or Dense layer. Set use_bias = False since bias is unnecessary when using Batch Normalisation.\r\n",
        "  Use the activations after the Batch Normalisation layer. Not before.\r\n",
        "  Use 'He' initialiser for ReLU and 'Glorot' for tanh\r\n",
        "  Use Categorical Crossentropy when Y_train is OneHot encoded. Otherwise use Sparse Categorical Crossentropy\r\n",
        "  \"\"\"\r\n",
        "  inp = Input(shape=(28, 28, 1),name=\"Input_Layer\")\r\n",
        "\r\n",
        "  x = Conv2D(filters=32, kernel_size=(3,3), strides=(1,1), padding=\"valid\", kernel_initializer=\"he_uniform\", use_bias=False, name=\"Conv2D_1\")(inp)\r\n",
        "  x = BatchNormalization()(x)\r\n",
        "  x = relu(x)\r\n",
        "  x = MaxPool2D(pool_size=(2,2), name=\"MaxPool_1\")(x)\r\n",
        "\r\n",
        "  x = Conv2D(64, (3,3), (1,1), \"valid\", kernel_initializer=\"he_uniform\", use_bias=False, name=\"Conv2D_2\")(x)\r\n",
        "  x = BatchNormalization()(x)\r\n",
        "  x = relu(x)\r\n",
        "  x = MaxPool2D(pool_size=(2,2), name=\"MaxPool_2\")(x)\r\n",
        "\r\n",
        "  x = Flatten(name=\"Flatten_Layer\")(x)\r\n",
        "\r\n",
        "  x = Dense(512, kernel_initializer=\"he_uniform\", use_bias=False, name=\"Dense_1\")(x)\r\n",
        "  x = BatchNormalization()(x)\r\n",
        "  x = relu(x)\r\n",
        "\r\n",
        "  x = Dense(128, kernel_initializer=\"he_uniform\", use_bias=False, name=\"Dense_2\")(x)\r\n",
        "  x = BatchNormalization()(x)\r\n",
        "  x = relu(x)\r\n",
        "\r\n",
        "  x = Dense(10, activation=\"softmax\", name=\"Output_Layer\")(x)\r\n",
        "\r\n",
        "  model = Model(inputs=inp, outputs=x)\r\n",
        "  opt = tf.keras.optimizers.Adam(learning_rate=0.01)\r\n",
        "  model.compile(optimizer=opt, loss=\"categorical_crossentropy\", metrics=[\"accuracy\"])\r\n",
        "\r\n",
        "  return model\r\n"
      ],
      "execution_count": 109,
      "outputs": []
    },
    {
      "cell_type": "code",
      "metadata": {
        "colab": {
          "base_uri": "https://localhost:8080/"
        },
        "id": "T22X4sELXpMs",
        "outputId": "1d07fd5f-106a-449b-d753-fac4dacaf554"
      },
      "source": [
        "model = define_model()\n",
        "model.summary()"
      ],
      "execution_count": 114,
      "outputs": [
        {
          "output_type": "stream",
          "text": [
            "Model: \"model_13\"\n",
            "_________________________________________________________________\n",
            "Layer (type)                 Output Shape              Param #   \n",
            "=================================================================\n",
            "Input_Layer (InputLayer)     [(None, 28, 28, 1)]       0         \n",
            "_________________________________________________________________\n",
            "Conv2D_1 (Conv2D)            (None, 26, 26, 32)        288       \n",
            "_________________________________________________________________\n",
            "batch_normalization_35 (Batc (None, 26, 26, 32)        128       \n",
            "_________________________________________________________________\n",
            "tf.nn.relu_16 (TFOpLambda)   (None, 26, 26, 32)        0         \n",
            "_________________________________________________________________\n",
            "MaxPool_1 (MaxPooling2D)     (None, 13, 13, 32)        0         \n",
            "_________________________________________________________________\n",
            "Conv2D_2 (Conv2D)            (None, 11, 11, 64)        18432     \n",
            "_________________________________________________________________\n",
            "batch_normalization_36 (Batc (None, 11, 11, 64)        256       \n",
            "_________________________________________________________________\n",
            "tf.nn.relu_17 (TFOpLambda)   (None, 11, 11, 64)        0         \n",
            "_________________________________________________________________\n",
            "MaxPool_2 (MaxPooling2D)     (None, 5, 5, 64)          0         \n",
            "_________________________________________________________________\n",
            "Flatten_Layer (Flatten)      (None, 1600)              0         \n",
            "_________________________________________________________________\n",
            "Dense_1 (Dense)              (None, 512)               819200    \n",
            "_________________________________________________________________\n",
            "batch_normalization_37 (Batc (None, 512)               2048      \n",
            "_________________________________________________________________\n",
            "tf.nn.relu_18 (TFOpLambda)   (None, 512)               0         \n",
            "_________________________________________________________________\n",
            "Dense_2 (Dense)              (None, 128)               65536     \n",
            "_________________________________________________________________\n",
            "batch_normalization_38 (Batc (None, 128)               512       \n",
            "_________________________________________________________________\n",
            "tf.nn.relu_19 (TFOpLambda)   (None, 128)               0         \n",
            "_________________________________________________________________\n",
            "Output_Layer (Dense)         (None, 10)                1290      \n",
            "=================================================================\n",
            "Total params: 907,690\n",
            "Trainable params: 906,218\n",
            "Non-trainable params: 1,472\n",
            "_________________________________________________________________\n"
          ],
          "name": "stdout"
        }
      ]
    },
    {
      "cell_type": "markdown",
      "metadata": {
        "id": "lCeiijKXAsM4"
      },
      "source": [
        "**Run the Model**"
      ]
    },
    {
      "cell_type": "code",
      "metadata": {
        "colab": {
          "base_uri": "https://localhost:8080/"
        },
        "id": "fnq6g134YB2g",
        "outputId": "143f9585-6e40-471e-af17-df16c4f8aefe"
      },
      "source": [
        "#callback = tf.keras.callbacks.EarlyStopping(monitor='val_accuracy', patience=1)\r\n",
        "history = model.fit(X_train, Y_train, batch_size=128, epochs=40, validation_data=(X_val, Y_val))"
      ],
      "execution_count": 115,
      "outputs": [
        {
          "output_type": "stream",
          "text": [
            "Epoch 1/40\n",
            "375/375 [==============================] - 62s 162ms/step - loss: 0.5369 - accuracy: 0.8060 - val_loss: 0.3719 - val_accuracy: 0.8663\n",
            "Epoch 2/40\n",
            "375/375 [==============================] - 60s 160ms/step - loss: 0.2813 - accuracy: 0.8954 - val_loss: 0.2859 - val_accuracy: 0.9004\n",
            "Epoch 3/40\n",
            "375/375 [==============================] - 61s 162ms/step - loss: 0.2382 - accuracy: 0.9124 - val_loss: 0.2435 - val_accuracy: 0.9125\n",
            "Epoch 4/40\n",
            "375/375 [==============================] - 61s 163ms/step - loss: 0.2006 - accuracy: 0.9254 - val_loss: 0.3078 - val_accuracy: 0.8873\n",
            "Epoch 5/40\n",
            "375/375 [==============================] - 61s 162ms/step - loss: 0.1719 - accuracy: 0.9355 - val_loss: 0.2876 - val_accuracy: 0.8995\n",
            "Epoch 6/40\n",
            "375/375 [==============================] - 60s 161ms/step - loss: 0.1458 - accuracy: 0.9461 - val_loss: 0.2775 - val_accuracy: 0.9087\n",
            "Epoch 7/40\n",
            "375/375 [==============================] - 60s 160ms/step - loss: 0.1285 - accuracy: 0.9535 - val_loss: 0.3117 - val_accuracy: 0.9037\n",
            "Epoch 8/40\n",
            "375/375 [==============================] - 60s 160ms/step - loss: 0.1089 - accuracy: 0.9609 - val_loss: 0.3254 - val_accuracy: 0.9062\n",
            "Epoch 9/40\n",
            "375/375 [==============================] - 60s 161ms/step - loss: 0.0925 - accuracy: 0.9650 - val_loss: 0.2961 - val_accuracy: 0.9082\n",
            "Epoch 10/40\n",
            "375/375 [==============================] - 60s 160ms/step - loss: 0.0839 - accuracy: 0.9696 - val_loss: 0.3641 - val_accuracy: 0.9028\n",
            "Epoch 11/40\n",
            "375/375 [==============================] - 60s 161ms/step - loss: 0.0739 - accuracy: 0.9729 - val_loss: 0.3583 - val_accuracy: 0.9076\n",
            "Epoch 12/40\n",
            "375/375 [==============================] - 60s 161ms/step - loss: 0.0681 - accuracy: 0.9747 - val_loss: 0.5269 - val_accuracy: 0.8782\n",
            "Epoch 13/40\n",
            "375/375 [==============================] - 60s 159ms/step - loss: 0.0613 - accuracy: 0.9763 - val_loss: 0.3858 - val_accuracy: 0.9072\n",
            "Epoch 14/40\n",
            "375/375 [==============================] - 61s 161ms/step - loss: 0.0516 - accuracy: 0.9802 - val_loss: 0.3755 - val_accuracy: 0.9130\n",
            "Epoch 15/40\n",
            "375/375 [==============================] - 60s 160ms/step - loss: 0.0457 - accuracy: 0.9826 - val_loss: 0.3898 - val_accuracy: 0.9012\n",
            "Epoch 16/40\n",
            "375/375 [==============================] - 60s 160ms/step - loss: 0.0453 - accuracy: 0.9844 - val_loss: 0.4771 - val_accuracy: 0.8992\n",
            "Epoch 17/40\n",
            "375/375 [==============================] - 60s 160ms/step - loss: 0.0423 - accuracy: 0.9843 - val_loss: 0.4479 - val_accuracy: 0.9135\n",
            "Epoch 18/40\n",
            "375/375 [==============================] - 60s 160ms/step - loss: 0.0321 - accuracy: 0.9880 - val_loss: 0.4405 - val_accuracy: 0.9082\n",
            "Epoch 19/40\n",
            "375/375 [==============================] - 61s 161ms/step - loss: 0.0347 - accuracy: 0.9869 - val_loss: 0.5247 - val_accuracy: 0.9061\n",
            "Epoch 20/40\n",
            "375/375 [==============================] - 60s 160ms/step - loss: 0.0315 - accuracy: 0.9887 - val_loss: 0.5560 - val_accuracy: 0.8989\n",
            "Epoch 21/40\n",
            "375/375 [==============================] - 60s 161ms/step - loss: 0.0308 - accuracy: 0.9894 - val_loss: 0.4799 - val_accuracy: 0.9091\n",
            "Epoch 22/40\n",
            "375/375 [==============================] - 60s 160ms/step - loss: 0.0310 - accuracy: 0.9885 - val_loss: 0.5212 - val_accuracy: 0.9082\n",
            "Epoch 23/40\n",
            "375/375 [==============================] - 60s 159ms/step - loss: 0.0246 - accuracy: 0.9918 - val_loss: 0.4746 - val_accuracy: 0.9133\n",
            "Epoch 24/40\n",
            "375/375 [==============================] - 61s 162ms/step - loss: 0.0214 - accuracy: 0.9927 - val_loss: 0.5097 - val_accuracy: 0.9065\n",
            "Epoch 25/40\n",
            "375/375 [==============================] - 60s 161ms/step - loss: 0.0256 - accuracy: 0.9905 - val_loss: 0.5257 - val_accuracy: 0.8996\n",
            "Epoch 26/40\n",
            "375/375 [==============================] - 61s 162ms/step - loss: 0.0217 - accuracy: 0.9921 - val_loss: 0.5250 - val_accuracy: 0.9081\n",
            "Epoch 27/40\n",
            "375/375 [==============================] - 60s 161ms/step - loss: 0.0247 - accuracy: 0.9916 - val_loss: 0.5506 - val_accuracy: 0.9031\n",
            "Epoch 28/40\n",
            "375/375 [==============================] - 60s 159ms/step - loss: 0.0189 - accuracy: 0.9934 - val_loss: 0.5694 - val_accuracy: 0.9084\n",
            "Epoch 29/40\n",
            "375/375 [==============================] - 60s 160ms/step - loss: 0.0196 - accuracy: 0.9932 - val_loss: 0.5129 - val_accuracy: 0.9081\n",
            "Epoch 30/40\n",
            "375/375 [==============================] - 61s 162ms/step - loss: 0.0203 - accuracy: 0.9929 - val_loss: 0.6187 - val_accuracy: 0.9013\n",
            "Epoch 31/40\n",
            "375/375 [==============================] - 60s 159ms/step - loss: 0.0239 - accuracy: 0.9914 - val_loss: 0.5639 - val_accuracy: 0.9150\n",
            "Epoch 32/40\n",
            "375/375 [==============================] - 60s 159ms/step - loss: 0.0140 - accuracy: 0.9951 - val_loss: 0.6542 - val_accuracy: 0.9069\n",
            "Epoch 33/40\n",
            "375/375 [==============================] - 59s 158ms/step - loss: 0.0265 - accuracy: 0.9907 - val_loss: 0.5606 - val_accuracy: 0.9097\n",
            "Epoch 34/40\n",
            "375/375 [==============================] - 59s 158ms/step - loss: 0.0180 - accuracy: 0.9937 - val_loss: 0.5902 - val_accuracy: 0.9093\n",
            "Epoch 35/40\n",
            "375/375 [==============================] - 61s 161ms/step - loss: 0.0189 - accuracy: 0.9934 - val_loss: 0.6061 - val_accuracy: 0.9112\n",
            "Epoch 36/40\n",
            "375/375 [==============================] - 60s 160ms/step - loss: 0.0187 - accuracy: 0.9931 - val_loss: 0.6010 - val_accuracy: 0.9093\n",
            "Epoch 37/40\n",
            "375/375 [==============================] - 60s 160ms/step - loss: 0.0130 - accuracy: 0.9953 - val_loss: 0.5665 - val_accuracy: 0.9050\n",
            "Epoch 38/40\n",
            "375/375 [==============================] - 60s 160ms/step - loss: 0.0197 - accuracy: 0.9932 - val_loss: 0.5802 - val_accuracy: 0.9093\n",
            "Epoch 39/40\n",
            "375/375 [==============================] - 60s 159ms/step - loss: 0.0162 - accuracy: 0.9947 - val_loss: 0.6325 - val_accuracy: 0.9105\n",
            "Epoch 40/40\n",
            "375/375 [==============================] - 60s 161ms/step - loss: 0.0171 - accuracy: 0.9941 - val_loss: 0.5822 - val_accuracy: 0.9122\n"
          ],
          "name": "stdout"
        }
      ]
    },
    {
      "cell_type": "code",
      "metadata": {
        "id": "_p8aGs5Nax43",
        "colab": {
          "base_uri": "https://localhost:8080/"
        },
        "outputId": "3ec8bd83-375c-42d3-bb37-0e90c84f0c69"
      },
      "source": [
        "_, acc_train = model.evaluate(X_train, Y_train)\r\n",
        "_, acc_val = model.evaluate(X_val, Y_val)\r\n",
        "_, acc_test = model.evaluate(X_test, Y_test)\r\n",
        "print(\" Test Accuracy: {} \\n Val Accuracy: {} \\n Test Accuracy: {}\".format(acc_train, acc_val, acc_test))"
      ],
      "execution_count": 137,
      "outputs": [
        {
          "output_type": "stream",
          "text": [
            "1500/1500 [==============================] - 17s 11ms/step - loss: 0.0127 - accuracy: 0.9954\n",
            "375/375 [==============================] - 4s 11ms/step - loss: 0.5822 - accuracy: 0.9122\n",
            "313/313 [==============================] - 3s 10ms/step - loss: 0.5340 - accuracy: 0.9185\n",
            " Test Accuracy: 0.9954166412353516 \n",
            " Val Accuracy: 0.9122499823570251 \n",
            " Test Accuracy: 0.9185000061988831\n"
          ],
          "name": "stdout"
        }
      ]
    },
    {
      "cell_type": "markdown",
      "metadata": {
        "id": "pFJgRSDsvuz3"
      },
      "source": [
        "**Viewing the Test Data with Predicted Label**"
      ]
    },
    {
      "cell_type": "code",
      "metadata": {
        "id": "CzUas4cnbBiq"
      },
      "source": [
        "predicted_label = np.squeeze(ohe.inverse_transform(model.predict(X_test)))\n",
        "true_label = np.squeeze(np_test_output)"
      ],
      "execution_count": 135,
      "outputs": []
    },
    {
      "cell_type": "code",
      "metadata": {
        "colab": {
          "base_uri": "https://localhost:8080/",
          "height": 894
        },
        "id": "7N6s_a5Ztn23",
        "outputId": "2f2e564e-0aae-47bf-dfe0-39773db19cd3"
      },
      "source": [
        "view_array = np.random.randint(0, len(X_test), size=9)\r\n",
        "fig,ax = plt.subplots(3, 3, figsize = (15,15))\r\n",
        "ax = ax.ravel()\r\n",
        "for i in range(0,9):\r\n",
        "    ax[i].imshow(np.squeeze(X_test[view_array[i]])) # squeezing from (28,28,1) to (28,28) for imshow\r\n",
        "    title = \"True: \" + label_dict[true_label[view_array[i]]] + \"\\n Predicted: \" + label_dict[predicted_label[view_array[i]]] # reverse transforming onehot array and accessing the label's name\r\n",
        "    # in label_dict for the given number. Examine the line separately if you are confused. \r\n",
        "    ax[i].title.set_text(title)"
      ],
      "execution_count": 139,
      "outputs": [
        {
          "output_type": "display_data",
          "data": {
            "image/png": "[encoded data removed]",
            "text/plain": [
              "<Figure size 1080x1080 with 9 Axes>"
            ]
          },
          "metadata": {
            "tags": [],
            "needs_background": "light"
          }
        }
      ]
    },
    {
      "cell_type": "markdown",
      "metadata": {
        "id": "TenFy44Ucoym"
      },
      "source": [
        ""
      ]
    }
  ]
}