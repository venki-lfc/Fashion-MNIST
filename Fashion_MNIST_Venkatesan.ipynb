{
  "nbformat": 4,
  "nbformat_minor": 0,
  "metadata": {
    "colab": {
      "name": "Fashion_MNIST_Venkatesan.ipynb",
      "provenance": [],
      "collapsed_sections": []
    },
    "kernelspec": {
      "name": "python3",
      "display_name": "Python 3"
    }
  },
  "cells": [
    {
      "cell_type": "markdown",
      "metadata": {
        "id": "HGC5iQmUDlfu"
      },
      "source": [
        "**FASHION MNIST CLASSIFICATION BY CNN**\r\n",
        "\r\n",
        "Author: Venkatesan Krishnamurthy"
      ]
    },
    {
      "cell_type": "markdown",
      "metadata": {
        "id": "1sEVbRXDcpsG"
      },
      "source": [
        "**Importing the necessary libraries**"
      ]
    },
    {
      "cell_type": "code",
      "metadata": {
        "id": "Imb55ckPAaFW"
      },
      "source": [
        "import numpy as np\r\n",
        "import pandas as pd\r\n",
        "import matplotlib.pyplot as plt\r\n",
        "import tensorflow as tf\r\n",
        "from sklearn.model_selection import train_test_split\r\n",
        "from sklearn.preprocessing import OneHotEncoder\r\n",
        "from tensorflow.keras import Model\r\n",
        "from tensorflow.keras.layers import Dense, Conv2D, MaxPool2D, BatchNormalization, Input, Flatten\r\n",
        "from tensorflow.keras.activations import relu"
      ],
      "execution_count": 1,
      "outputs": []
    },
    {
      "cell_type": "markdown",
      "metadata": {
        "id": "qZsjIs1icyfU"
      },
      "source": [
        "**Mounting the Google Drive and Loading the Data**"
      ]
    },
    {
      "cell_type": "code",
      "metadata": {
        "colab": {
          "base_uri": "https://localhost:8080/"
        },
        "id": "pHXgVkdMC4Am",
        "outputId": "b4b607f0-0526-427e-a909-6358e3925a22"
      },
      "source": [
        "from google.colab import drive\r\n",
        "drive.mount(\"/content/drive\")"
      ],
      "execution_count": 2,
      "outputs": [
        {
          "output_type": "stream",
          "text": [
            "Drive already mounted at /content/drive; to attempt to forcibly remount, call drive.mount(\"/content/drive\", force_remount=True).\n"
          ],
          "name": "stdout"
        }
      ]
    },
    {
      "cell_type": "code",
      "metadata": {
        "id": "M3xpbcEgBgmH"
      },
      "source": [
        "df_train = pd.read_csv(\"/content/drive/MyDrive/Fashion_MNIST/fashion-mnist_train.csv\")\r\n",
        "df_test = pd.read_csv(\"/content/drive/MyDrive/Fashion_MNIST/fashion-mnist_test.csv\")"
      ],
      "execution_count": 3,
      "outputs": []
    },
    {
      "cell_type": "code",
      "metadata": {
        "id": "xTJcjorf87C3"
      },
      "source": [
        "label_dict = {\r\n",
        "    0: \"T-shirt/top\",\r\n",
        "    1: \"Trouser\",\r\n",
        "    2: \"Pullover\",\r\n",
        "    3: \"Dress\",\r\n",
        "    4: \"Coat\",\r\n",
        "    5: \"Sandal\",\r\n",
        "    6: \"Shirt\",\r\n",
        "    7: \"Sneaker\",\r\n",
        "    8: \"Bag\",\r\n",
        "    9: \"Ankle boot\"\r\n",
        "}"
      ],
      "execution_count": 4,
      "outputs": []
    },
    {
      "cell_type": "code",
      "metadata": {
        "colab": {
          "base_uri": "https://localhost:8080/",
          "height": 244
        },
        "id": "urkuA7BO3iZT",
        "outputId": "81162346-4b0a-4585-d1d1-dbeb69834917"
      },
      "source": [
        "df_train.head()"
      ],
      "execution_count": 5,
      "outputs": [
        {
          "output_type": "execute_result",
          "data": {
            "text/html": [
              "<div>\n",
              "<style scoped>\n",
              "    .dataframe tbody tr th:only-of-type {\n",
              "        vertical-align: middle;\n",
              "    }\n",
              "\n",
              "    .dataframe tbody tr th {\n",
              "        vertical-align: top;\n",
              "    }\n",
              "\n",
              "    .dataframe thead th {\n",
              "        text-align: right;\n",
              "    }\n",
              "</style>\n",
              "<table border=\"1\" class=\"dataframe\">\n",
              "  <thead>\n",
              "    <tr style=\"text-align: right;\">\n",
              "      <th></th>\n",
              "      <th>label</th>\n",
              "      <th>pixel1</th>\n",
              "      <th>pixel2</th>\n",
              "      <th>pixel3</th>\n",
              "      <th>pixel4</th>\n",
              "      <th>pixel5</th>\n",
              "      <th>pixel6</th>\n",
              "      <th>pixel7</th>\n",
              "      <th>pixel8</th>\n",
              "      <th>pixel9</th>\n",
              "      <th>pixel10</th>\n",
              "      <th>pixel11</th>\n",
              "      <th>pixel12</th>\n",
              "      <th>pixel13</th>\n",
              "      <th>pixel14</th>\n",
              "      <th>pixel15</th>\n",
              "      <th>pixel16</th>\n",
              "      <th>pixel17</th>\n",
              "      <th>pixel18</th>\n",
              "      <th>pixel19</th>\n",
              "      <th>pixel20</th>\n",
              "      <th>pixel21</th>\n",
              "      <th>pixel22</th>\n",
              "      <th>pixel23</th>\n",
              "      <th>pixel24</th>\n",
              "      <th>pixel25</th>\n",
              "      <th>pixel26</th>\n",
              "      <th>pixel27</th>\n",
              "      <th>pixel28</th>\n",
              "      <th>pixel29</th>\n",
              "      <th>pixel30</th>\n",
              "      <th>pixel31</th>\n",
              "      <th>pixel32</th>\n",
              "      <th>pixel33</th>\n",
              "      <th>pixel34</th>\n",
              "      <th>pixel35</th>\n",
              "      <th>pixel36</th>\n",
              "      <th>pixel37</th>\n",
              "      <th>pixel38</th>\n",
              "      <th>pixel39</th>\n",
              "      <th>...</th>\n",
              "      <th>pixel745</th>\n",
              "      <th>pixel746</th>\n",
              "      <th>pixel747</th>\n",
              "      <th>pixel748</th>\n",
              "      <th>pixel749</th>\n",
              "      <th>pixel750</th>\n",
              "      <th>pixel751</th>\n",
              "      <th>pixel752</th>\n",
              "      <th>pixel753</th>\n",
              "      <th>pixel754</th>\n",
              "      <th>pixel755</th>\n",
              "      <th>pixel756</th>\n",
              "      <th>pixel757</th>\n",
              "      <th>pixel758</th>\n",
              "      <th>pixel759</th>\n",
              "      <th>pixel760</th>\n",
              "      <th>pixel761</th>\n",
              "      <th>pixel762</th>\n",
              "      <th>pixel763</th>\n",
              "      <th>pixel764</th>\n",
              "      <th>pixel765</th>\n",
              "      <th>pixel766</th>\n",
              "      <th>pixel767</th>\n",
              "      <th>pixel768</th>\n",
              "      <th>pixel769</th>\n",
              "      <th>pixel770</th>\n",
              "      <th>pixel771</th>\n",
              "      <th>pixel772</th>\n",
              "      <th>pixel773</th>\n",
              "      <th>pixel774</th>\n",
              "      <th>pixel775</th>\n",
              "      <th>pixel776</th>\n",
              "      <th>pixel777</th>\n",
              "      <th>pixel778</th>\n",
              "      <th>pixel779</th>\n",
              "      <th>pixel780</th>\n",
              "      <th>pixel781</th>\n",
              "      <th>pixel782</th>\n",
              "      <th>pixel783</th>\n",
              "      <th>pixel784</th>\n",
              "    </tr>\n",
              "  </thead>\n",
              "  <tbody>\n",
              "    <tr>\n",
              "      <th>0</th>\n",
              "      <td>2</td>\n",
              "      <td>0</td>\n",
              "      <td>0</td>\n",
              "      <td>0</td>\n",
              "      <td>0</td>\n",
              "      <td>0</td>\n",
              "      <td>0</td>\n",
              "      <td>0</td>\n",
              "      <td>0</td>\n",
              "      <td>0</td>\n",
              "      <td>0</td>\n",
              "      <td>0</td>\n",
              "      <td>0</td>\n",
              "      <td>0</td>\n",
              "      <td>0</td>\n",
              "      <td>0</td>\n",
              "      <td>0</td>\n",
              "      <td>0</td>\n",
              "      <td>0</td>\n",
              "      <td>0</td>\n",
              "      <td>0</td>\n",
              "      <td>0</td>\n",
              "      <td>0</td>\n",
              "      <td>0</td>\n",
              "      <td>0</td>\n",
              "      <td>0</td>\n",
              "      <td>0</td>\n",
              "      <td>0</td>\n",
              "      <td>0</td>\n",
              "      <td>0</td>\n",
              "      <td>0</td>\n",
              "      <td>0</td>\n",
              "      <td>0</td>\n",
              "      <td>0</td>\n",
              "      <td>0</td>\n",
              "      <td>0</td>\n",
              "      <td>0</td>\n",
              "      <td>0</td>\n",
              "      <td>0</td>\n",
              "      <td>0</td>\n",
              "      <td>...</td>\n",
              "      <td>0</td>\n",
              "      <td>0</td>\n",
              "      <td>0</td>\n",
              "      <td>0</td>\n",
              "      <td>0</td>\n",
              "      <td>0</td>\n",
              "      <td>0</td>\n",
              "      <td>0</td>\n",
              "      <td>0</td>\n",
              "      <td>0</td>\n",
              "      <td>0</td>\n",
              "      <td>0</td>\n",
              "      <td>0</td>\n",
              "      <td>0</td>\n",
              "      <td>0</td>\n",
              "      <td>0</td>\n",
              "      <td>0</td>\n",
              "      <td>0</td>\n",
              "      <td>0</td>\n",
              "      <td>0</td>\n",
              "      <td>0</td>\n",
              "      <td>0</td>\n",
              "      <td>0</td>\n",
              "      <td>0</td>\n",
              "      <td>0</td>\n",
              "      <td>0</td>\n",
              "      <td>0</td>\n",
              "      <td>0</td>\n",
              "      <td>0</td>\n",
              "      <td>0</td>\n",
              "      <td>0</td>\n",
              "      <td>0</td>\n",
              "      <td>0</td>\n",
              "      <td>0</td>\n",
              "      <td>0</td>\n",
              "      <td>0</td>\n",
              "      <td>0</td>\n",
              "      <td>0</td>\n",
              "      <td>0</td>\n",
              "      <td>0</td>\n",
              "    </tr>\n",
              "    <tr>\n",
              "      <th>1</th>\n",
              "      <td>9</td>\n",
              "      <td>0</td>\n",
              "      <td>0</td>\n",
              "      <td>0</td>\n",
              "      <td>0</td>\n",
              "      <td>0</td>\n",
              "      <td>0</td>\n",
              "      <td>0</td>\n",
              "      <td>0</td>\n",
              "      <td>0</td>\n",
              "      <td>0</td>\n",
              "      <td>0</td>\n",
              "      <td>0</td>\n",
              "      <td>0</td>\n",
              "      <td>0</td>\n",
              "      <td>0</td>\n",
              "      <td>0</td>\n",
              "      <td>0</td>\n",
              "      <td>0</td>\n",
              "      <td>0</td>\n",
              "      <td>0</td>\n",
              "      <td>0</td>\n",
              "      <td>0</td>\n",
              "      <td>0</td>\n",
              "      <td>0</td>\n",
              "      <td>0</td>\n",
              "      <td>0</td>\n",
              "      <td>0</td>\n",
              "      <td>0</td>\n",
              "      <td>0</td>\n",
              "      <td>0</td>\n",
              "      <td>0</td>\n",
              "      <td>0</td>\n",
              "      <td>0</td>\n",
              "      <td>0</td>\n",
              "      <td>0</td>\n",
              "      <td>0</td>\n",
              "      <td>0</td>\n",
              "      <td>0</td>\n",
              "      <td>0</td>\n",
              "      <td>...</td>\n",
              "      <td>0</td>\n",
              "      <td>0</td>\n",
              "      <td>0</td>\n",
              "      <td>0</td>\n",
              "      <td>0</td>\n",
              "      <td>0</td>\n",
              "      <td>0</td>\n",
              "      <td>0</td>\n",
              "      <td>0</td>\n",
              "      <td>0</td>\n",
              "      <td>0</td>\n",
              "      <td>0</td>\n",
              "      <td>0</td>\n",
              "      <td>0</td>\n",
              "      <td>0</td>\n",
              "      <td>0</td>\n",
              "      <td>0</td>\n",
              "      <td>0</td>\n",
              "      <td>0</td>\n",
              "      <td>0</td>\n",
              "      <td>0</td>\n",
              "      <td>0</td>\n",
              "      <td>0</td>\n",
              "      <td>0</td>\n",
              "      <td>0</td>\n",
              "      <td>0</td>\n",
              "      <td>0</td>\n",
              "      <td>0</td>\n",
              "      <td>0</td>\n",
              "      <td>0</td>\n",
              "      <td>0</td>\n",
              "      <td>0</td>\n",
              "      <td>0</td>\n",
              "      <td>0</td>\n",
              "      <td>0</td>\n",
              "      <td>0</td>\n",
              "      <td>0</td>\n",
              "      <td>0</td>\n",
              "      <td>0</td>\n",
              "      <td>0</td>\n",
              "    </tr>\n",
              "    <tr>\n",
              "      <th>2</th>\n",
              "      <td>6</td>\n",
              "      <td>0</td>\n",
              "      <td>0</td>\n",
              "      <td>0</td>\n",
              "      <td>0</td>\n",
              "      <td>0</td>\n",
              "      <td>0</td>\n",
              "      <td>0</td>\n",
              "      <td>5</td>\n",
              "      <td>0</td>\n",
              "      <td>0</td>\n",
              "      <td>0</td>\n",
              "      <td>105</td>\n",
              "      <td>92</td>\n",
              "      <td>101</td>\n",
              "      <td>107</td>\n",
              "      <td>100</td>\n",
              "      <td>132</td>\n",
              "      <td>0</td>\n",
              "      <td>0</td>\n",
              "      <td>2</td>\n",
              "      <td>4</td>\n",
              "      <td>0</td>\n",
              "      <td>1</td>\n",
              "      <td>0</td>\n",
              "      <td>0</td>\n",
              "      <td>0</td>\n",
              "      <td>0</td>\n",
              "      <td>0</td>\n",
              "      <td>0</td>\n",
              "      <td>0</td>\n",
              "      <td>0</td>\n",
              "      <td>0</td>\n",
              "      <td>0</td>\n",
              "      <td>0</td>\n",
              "      <td>0</td>\n",
              "      <td>0</td>\n",
              "      <td>0</td>\n",
              "      <td>0</td>\n",
              "      <td>150</td>\n",
              "      <td>...</td>\n",
              "      <td>211</td>\n",
              "      <td>220</td>\n",
              "      <td>214</td>\n",
              "      <td>74</td>\n",
              "      <td>0</td>\n",
              "      <td>255</td>\n",
              "      <td>222</td>\n",
              "      <td>128</td>\n",
              "      <td>0</td>\n",
              "      <td>0</td>\n",
              "      <td>0</td>\n",
              "      <td>0</td>\n",
              "      <td>0</td>\n",
              "      <td>0</td>\n",
              "      <td>0</td>\n",
              "      <td>0</td>\n",
              "      <td>0</td>\n",
              "      <td>44</td>\n",
              "      <td>12</td>\n",
              "      <td>0</td>\n",
              "      <td>0</td>\n",
              "      <td>40</td>\n",
              "      <td>134</td>\n",
              "      <td>162</td>\n",
              "      <td>191</td>\n",
              "      <td>214</td>\n",
              "      <td>163</td>\n",
              "      <td>146</td>\n",
              "      <td>165</td>\n",
              "      <td>79</td>\n",
              "      <td>0</td>\n",
              "      <td>0</td>\n",
              "      <td>0</td>\n",
              "      <td>30</td>\n",
              "      <td>43</td>\n",
              "      <td>0</td>\n",
              "      <td>0</td>\n",
              "      <td>0</td>\n",
              "      <td>0</td>\n",
              "      <td>0</td>\n",
              "    </tr>\n",
              "    <tr>\n",
              "      <th>3</th>\n",
              "      <td>0</td>\n",
              "      <td>0</td>\n",
              "      <td>0</td>\n",
              "      <td>0</td>\n",
              "      <td>1</td>\n",
              "      <td>2</td>\n",
              "      <td>0</td>\n",
              "      <td>0</td>\n",
              "      <td>0</td>\n",
              "      <td>0</td>\n",
              "      <td>0</td>\n",
              "      <td>114</td>\n",
              "      <td>183</td>\n",
              "      <td>112</td>\n",
              "      <td>55</td>\n",
              "      <td>23</td>\n",
              "      <td>72</td>\n",
              "      <td>102</td>\n",
              "      <td>165</td>\n",
              "      <td>160</td>\n",
              "      <td>28</td>\n",
              "      <td>0</td>\n",
              "      <td>0</td>\n",
              "      <td>0</td>\n",
              "      <td>1</td>\n",
              "      <td>0</td>\n",
              "      <td>0</td>\n",
              "      <td>0</td>\n",
              "      <td>0</td>\n",
              "      <td>0</td>\n",
              "      <td>0</td>\n",
              "      <td>0</td>\n",
              "      <td>0</td>\n",
              "      <td>1</td>\n",
              "      <td>0</td>\n",
              "      <td>0</td>\n",
              "      <td>24</td>\n",
              "      <td>188</td>\n",
              "      <td>163</td>\n",
              "      <td>93</td>\n",
              "      <td>...</td>\n",
              "      <td>171</td>\n",
              "      <td>249</td>\n",
              "      <td>207</td>\n",
              "      <td>197</td>\n",
              "      <td>202</td>\n",
              "      <td>45</td>\n",
              "      <td>0</td>\n",
              "      <td>3</td>\n",
              "      <td>0</td>\n",
              "      <td>0</td>\n",
              "      <td>0</td>\n",
              "      <td>0</td>\n",
              "      <td>0</td>\n",
              "      <td>0</td>\n",
              "      <td>0</td>\n",
              "      <td>0</td>\n",
              "      <td>0</td>\n",
              "      <td>0</td>\n",
              "      <td>1</td>\n",
              "      <td>0</td>\n",
              "      <td>0</td>\n",
              "      <td>0</td>\n",
              "      <td>22</td>\n",
              "      <td>21</td>\n",
              "      <td>25</td>\n",
              "      <td>69</td>\n",
              "      <td>52</td>\n",
              "      <td>45</td>\n",
              "      <td>74</td>\n",
              "      <td>39</td>\n",
              "      <td>3</td>\n",
              "      <td>0</td>\n",
              "      <td>0</td>\n",
              "      <td>0</td>\n",
              "      <td>0</td>\n",
              "      <td>1</td>\n",
              "      <td>0</td>\n",
              "      <td>0</td>\n",
              "      <td>0</td>\n",
              "      <td>0</td>\n",
              "    </tr>\n",
              "    <tr>\n",
              "      <th>4</th>\n",
              "      <td>3</td>\n",
              "      <td>0</td>\n",
              "      <td>0</td>\n",
              "      <td>0</td>\n",
              "      <td>0</td>\n",
              "      <td>0</td>\n",
              "      <td>0</td>\n",
              "      <td>0</td>\n",
              "      <td>0</td>\n",
              "      <td>0</td>\n",
              "      <td>0</td>\n",
              "      <td>0</td>\n",
              "      <td>0</td>\n",
              "      <td>46</td>\n",
              "      <td>0</td>\n",
              "      <td>21</td>\n",
              "      <td>68</td>\n",
              "      <td>0</td>\n",
              "      <td>0</td>\n",
              "      <td>0</td>\n",
              "      <td>0</td>\n",
              "      <td>0</td>\n",
              "      <td>0</td>\n",
              "      <td>0</td>\n",
              "      <td>0</td>\n",
              "      <td>0</td>\n",
              "      <td>0</td>\n",
              "      <td>0</td>\n",
              "      <td>0</td>\n",
              "      <td>0</td>\n",
              "      <td>0</td>\n",
              "      <td>0</td>\n",
              "      <td>0</td>\n",
              "      <td>0</td>\n",
              "      <td>0</td>\n",
              "      <td>0</td>\n",
              "      <td>0</td>\n",
              "      <td>25</td>\n",
              "      <td>187</td>\n",
              "      <td>189</td>\n",
              "      <td>...</td>\n",
              "      <td>230</td>\n",
              "      <td>237</td>\n",
              "      <td>229</td>\n",
              "      <td>0</td>\n",
              "      <td>0</td>\n",
              "      <td>1</td>\n",
              "      <td>0</td>\n",
              "      <td>0</td>\n",
              "      <td>0</td>\n",
              "      <td>0</td>\n",
              "      <td>0</td>\n",
              "      <td>0</td>\n",
              "      <td>0</td>\n",
              "      <td>0</td>\n",
              "      <td>0</td>\n",
              "      <td>0</td>\n",
              "      <td>0</td>\n",
              "      <td>0</td>\n",
              "      <td>0</td>\n",
              "      <td>0</td>\n",
              "      <td>0</td>\n",
              "      <td>68</td>\n",
              "      <td>116</td>\n",
              "      <td>112</td>\n",
              "      <td>136</td>\n",
              "      <td>147</td>\n",
              "      <td>144</td>\n",
              "      <td>121</td>\n",
              "      <td>102</td>\n",
              "      <td>63</td>\n",
              "      <td>0</td>\n",
              "      <td>0</td>\n",
              "      <td>0</td>\n",
              "      <td>0</td>\n",
              "      <td>0</td>\n",
              "      <td>0</td>\n",
              "      <td>0</td>\n",
              "      <td>0</td>\n",
              "      <td>0</td>\n",
              "      <td>0</td>\n",
              "    </tr>\n",
              "  </tbody>\n",
              "</table>\n",
              "<p>5 rows × 785 columns</p>\n",
              "</div>"
            ],
            "text/plain": [
              "   label  pixel1  pixel2  pixel3  ...  pixel781  pixel782  pixel783  pixel784\n",
              "0      2       0       0       0  ...         0         0         0         0\n",
              "1      9       0       0       0  ...         0         0         0         0\n",
              "2      6       0       0       0  ...         0         0         0         0\n",
              "3      0       0       0       0  ...         0         0         0         0\n",
              "4      3       0       0       0  ...         0         0         0         0\n",
              "\n",
              "[5 rows x 785 columns]"
            ]
          },
          "metadata": {
            "tags": []
          },
          "execution_count": 5
        }
      ]
    },
    {
      "cell_type": "markdown",
      "metadata": {
        "id": "WjQyVEv6c_OB"
      },
      "source": [
        "**Preparing the Dataset**"
      ]
    },
    {
      "cell_type": "code",
      "metadata": {
        "id": "2uZxvAO-DgG6"
      },
      "source": [
        "df_train_output = df_train.pop(\"label\") # taking out output from the dataframe\r\n",
        "df_test_output = df_test.pop(\"label\")"
      ],
      "execution_count": 6,
      "outputs": []
    },
    {
      "cell_type": "code",
      "metadata": {
        "id": "nZ7Kp4zzD1IA"
      },
      "source": [
        "df_train_input = df_train.copy() # the copying the input dataframe\r\n",
        "df_test_input = df_test.copy()"
      ],
      "execution_count": 7,
      "outputs": []
    },
    {
      "cell_type": "code",
      "metadata": {
        "id": "0JRqMRwPJyob"
      },
      "source": [
        "def preprocess_data(df_input, df_output, width, height):\r\n",
        "  \"\"\"\r\n",
        "  Inputs:\r\n",
        "  1. df_input = input pandas dataframe\r\n",
        "  2. df_output = output pandas dataframe (must contain only one column)\r\n",
        "  3. width - size of the width you want the vector to be transformed (int)\r\n",
        "  4. height - size of the height you want the vector to become transformed (int)\r\n",
        "\r\n",
        "  Returns:\r\n",
        "  1. np_i - input array without normalising (numpy)\r\n",
        "  2. np_i_scaled - normalized input array (numpy)\r\n",
        "  3. np_o - output array without OneHotEncoding (numpy)\r\n",
        "  4. np_o_ohe - output array with OneHotEncoding (numpy)\r\n",
        "  5. ohe - the fitted OneHotEncoder \r\n",
        "  \"\"\"\r\n",
        "  df_i = df_input.copy()\r\n",
        "  df_o = df_output.copy()\r\n",
        "\r\n",
        "  np_i = df_i.to_numpy(\"float32\")  # converting to numpy format\r\n",
        "  np_i = np.reshape(np_i, (-1, width, height, 1))  # reshaping the vector into 2D array \r\n",
        "  np_i_scaled = (np_i - 127.5) / 127.5  # normalizing the input features between -1 and 1\r\n",
        "  \r\n",
        "  np_o = df_o.to_numpy(\"float32\")\r\n",
        "  np_o = np.reshape(np_o, (-1,1))  # if previous shape was (None,) it will be changed to (None, 1)\r\n",
        "  ohe = OneHotEncoder()  # using one-hot encoder\r\n",
        "  np_o_ohe = ohe.fit_transform(np_o).toarray()\r\n",
        "\r\n",
        "  return np_i, np_i_scaled, np_o, np_o_ohe, ohe"
      ],
      "execution_count": 8,
      "outputs": []
    },
    {
      "cell_type": "code",
      "metadata": {
        "id": "WoeICkRINuBU"
      },
      "source": [
        "np_train_input, np_train_input_scaled, np_train_output, np_train_output_ohe, ohe = preprocess_data(df_train_input, df_train_output, 28, 28)\r\n",
        "np_test_input, X_test, np_test_output, Y_test, _ = preprocess_data(df_test_input, df_test_output, 28, 28)"
      ],
      "execution_count": 9,
      "outputs": []
    },
    {
      "cell_type": "code",
      "metadata": {
        "id": "pfuLyEr8Fu1X"
      },
      "source": [
        "X_train, X_val, Y_train, Y_val = train_test_split(np_train_input_scaled, np_train_output_ohe, test_size=0.2, shuffle=True, random_state=10)  # Creating training and validation data "
      ],
      "execution_count": 10,
      "outputs": []
    },
    {
      "cell_type": "markdown",
      "metadata": {
        "id": "0hM571ZF_TDy"
      },
      "source": [
        "**Viewing the Dataset**"
      ]
    },
    {
      "cell_type": "code",
      "metadata": {
        "colab": {
          "base_uri": "https://localhost:8080/",
          "height": 607
        },
        "id": "El9PHZVI4Clz",
        "outputId": "963e4bbd-6833-48d7-9454-d2779dd06902"
      },
      "source": [
        "view_array = np.random.randint(0, len(X_train), size=9)\r\n",
        "fig,ax = plt.subplots(3, 3, figsize = (10,10))\r\n",
        "ax = ax.ravel()\r\n",
        "for i in range(0,9):\r\n",
        "    ax[i].imshow(np.squeeze(X_train[view_array[i]])) # squeezing from (28,28,1) to (28,28) for imshow\r\n",
        "    title = label_dict[ohe.inverse_transform(Y_train)[view_array[i]][0]]  # reverse transforming onehot array and accessing the label's name\r\n",
        "    # in label_dict for the given number. Examine the line separately if you are confused. \r\n",
        "    ax[i].title.set_text(title)"
      ],
      "execution_count": 11,
      "outputs": [
        {
          "output_type": "display_data",
          "data": {
            "image/png": "[encoded data removed]",
            "text/plain": [
              "<Figure size 720x720 with 9 Axes>"
            ]
          },
          "metadata": {
            "tags": [],
            "needs_background": "light"
          }
        }
      ]
    },
    {
      "cell_type": "markdown",
      "metadata": {
        "id": "rDxCYE_EAiav"
      },
      "source": [
        "**Defining and Compiling the CNN Model**"
      ]
    },
    {
      "cell_type": "code",
      "metadata": {
        "id": "XWpH2_KfO9JN"
      },
      "source": [
        "def define_model():\r\n",
        "  \"\"\"\r\n",
        "  Batch Normalisation is used to train the NN faster and allows us to use higher learning rates.\r\n",
        "  Use it after the Conv2D or Dense layer. Set use_bias = False since bias is unnecessary when using Batch Normalisation.\r\n",
        "  Use the activations after the Batch Normalisation layer. Not before.\r\n",
        "  Use 'He' initialiser for ReLU and 'Glorot' for tanh\r\n",
        "  Use Categorical Crossentropy when Y_train is OneHot encoded. Otherwise use Sparse Categorical Crossentropy\r\n",
        "  \"\"\"\r\n",
        "  inp = Input(shape=(28, 28, 1),name=\"Input_Layer\")\r\n",
        "\r\n",
        "  x = Conv2D(filters=32, kernel_size=(3,3), strides=(1,1), padding=\"valid\", kernel_initializer=\"he_uniform\", use_bias=False, name=\"Conv2D_1\")(inp)\r\n",
        "  x = BatchNormalization()(x)\r\n",
        "  x = relu(x)\r\n",
        "  x = MaxPool2D(pool_size=(2,2), name=\"MaxPool_1\")(x)\r\n",
        "\r\n",
        "  x = Conv2D(64, (3,3), (1,1), \"valid\", kernel_initializer=\"he_uniform\", use_bias=False, name=\"Conv2D_2\")(x)\r\n",
        "  x = BatchNormalization()(x)\r\n",
        "  x = relu(x)\r\n",
        "  x = MaxPool2D(pool_size=(2,2), name=\"MaxPool_2\")(x)\r\n",
        "\r\n",
        "  x = Flatten(name=\"Flatten_Layer\")(x)\r\n",
        "\r\n",
        "  x = Dense(512, kernel_initializer=\"he_uniform\", use_bias=False, name=\"Dense_1\")(x)\r\n",
        "  x = BatchNormalization()(x)\r\n",
        "  x = relu(x)\r\n",
        "\r\n",
        "  x = Dense(128, kernel_initializer=\"he_uniform\", use_bias=False, name=\"Dense_2\")(x)\r\n",
        "  x = BatchNormalization()(x)\r\n",
        "  x = relu(x)\r\n",
        "\r\n",
        "  x = Dense(10, activation=\"softmax\", name=\"Output_Layer\")(x)\r\n",
        "\r\n",
        "  model = Model(inputs=inp, outputs=x)\r\n",
        "  opt = tf.keras.optimizers.Adam(learning_rate=0.01)\r\n",
        "  model.compile(optimizer=opt, loss=\"categorical_crossentropy\", metrics=[\"accuracy\"])\r\n",
        "\r\n",
        "  return model\r\n"
      ],
      "execution_count": 12,
      "outputs": []
    },
    {
      "cell_type": "code",
      "metadata": {
        "colab": {
          "base_uri": "https://localhost:8080/"
        },
        "id": "T22X4sELXpMs",
        "outputId": "fb73c618-0899-4831-b5c5-cf5a588bd727"
      },
      "source": [
        "model = define_model()\n",
        "model.summary()"
      ],
      "execution_count": 13,
      "outputs": [
        {
          "output_type": "stream",
          "text": [
            "Model: \"model\"\n",
            "_________________________________________________________________\n",
            "Layer (type)                 Output Shape              Param #   \n",
            "=================================================================\n",
            "Input_Layer (InputLayer)     [(None, 28, 28, 1)]       0         \n",
            "_________________________________________________________________\n",
            "Conv2D_1 (Conv2D)            (None, 26, 26, 32)        288       \n",
            "_________________________________________________________________\n",
            "batch_normalization (BatchNo (None, 26, 26, 32)        128       \n",
            "_________________________________________________________________\n",
            "tf.nn.relu (TFOpLambda)      (None, 26, 26, 32)        0         \n",
            "_________________________________________________________________\n",
            "MaxPool_1 (MaxPooling2D)     (None, 13, 13, 32)        0         \n",
            "_________________________________________________________________\n",
            "Conv2D_2 (Conv2D)            (None, 11, 11, 64)        18432     \n",
            "_________________________________________________________________\n",
            "batch_normalization_1 (Batch (None, 11, 11, 64)        256       \n",
            "_________________________________________________________________\n",
            "tf.nn.relu_1 (TFOpLambda)    (None, 11, 11, 64)        0         \n",
            "_________________________________________________________________\n",
            "MaxPool_2 (MaxPooling2D)     (None, 5, 5, 64)          0         \n",
            "_________________________________________________________________\n",
            "Flatten_Layer (Flatten)      (None, 1600)              0         \n",
            "_________________________________________________________________\n",
            "Dense_1 (Dense)              (None, 512)               819200    \n",
            "_________________________________________________________________\n",
            "batch_normalization_2 (Batch (None, 512)               2048      \n",
            "_________________________________________________________________\n",
            "tf.nn.relu_2 (TFOpLambda)    (None, 512)               0         \n",
            "_________________________________________________________________\n",
            "Dense_2 (Dense)              (None, 128)               65536     \n",
            "_________________________________________________________________\n",
            "batch_normalization_3 (Batch (None, 128)               512       \n",
            "_________________________________________________________________\n",
            "tf.nn.relu_3 (TFOpLambda)    (None, 128)               0         \n",
            "_________________________________________________________________\n",
            "Output_Layer (Dense)         (None, 10)                1290      \n",
            "=================================================================\n",
            "Total params: 907,690\n",
            "Trainable params: 906,218\n",
            "Non-trainable params: 1,472\n",
            "_________________________________________________________________\n"
          ],
          "name": "stdout"
        }
      ]
    },
    {
      "cell_type": "markdown",
      "metadata": {
        "id": "lCeiijKXAsM4"
      },
      "source": [
        "**Run the Model**"
      ]
    },
    {
      "cell_type": "code",
      "metadata": {
        "colab": {
          "base_uri": "https://localhost:8080/"
        },
        "id": "fnq6g134YB2g",
        "outputId": "a231448c-358c-4a2d-cd8a-791f92fa0e40"
      },
      "source": [
        "#callback = tf.keras.callbacks.EarlyStopping(monitor='val_accuracy', patience=1)\r\n",
        "history = model.fit(X_train, Y_train, batch_size=128, epochs=40, validation_data=(X_val, Y_val))"
      ],
      "execution_count": 14,
      "outputs": [
        {
          "output_type": "stream",
          "text": [
            "Epoch 1/40\n",
            "375/375 [==============================] - 49s 127ms/step - loss: 0.5405 - accuracy: 0.8033 - val_loss: 0.3203 - val_accuracy: 0.8861\n",
            "Epoch 2/40\n",
            "375/375 [==============================] - 47s 126ms/step - loss: 0.2700 - accuracy: 0.9010 - val_loss: 0.3141 - val_accuracy: 0.8886\n",
            "Epoch 3/40\n",
            "375/375 [==============================] - 47s 126ms/step - loss: 0.2309 - accuracy: 0.9137 - val_loss: 0.2645 - val_accuracy: 0.9023\n",
            "Epoch 4/40\n",
            "375/375 [==============================] - 47s 125ms/step - loss: 0.1961 - accuracy: 0.9256 - val_loss: 0.2795 - val_accuracy: 0.9009\n",
            "Epoch 5/40\n",
            "375/375 [==============================] - 47s 125ms/step - loss: 0.1731 - accuracy: 0.9347 - val_loss: 0.2905 - val_accuracy: 0.8978\n",
            "Epoch 6/40\n",
            "375/375 [==============================] - 47s 126ms/step - loss: 0.1388 - accuracy: 0.9471 - val_loss: 0.3718 - val_accuracy: 0.8792\n",
            "Epoch 7/40\n",
            "375/375 [==============================] - 47s 125ms/step - loss: 0.1280 - accuracy: 0.9532 - val_loss: 0.3501 - val_accuracy: 0.8883\n",
            "Epoch 8/40\n",
            "375/375 [==============================] - 47s 125ms/step - loss: 0.1103 - accuracy: 0.9578 - val_loss: 0.3572 - val_accuracy: 0.8923\n",
            "Epoch 9/40\n",
            "375/375 [==============================] - 51s 135ms/step - loss: 0.0943 - accuracy: 0.9640 - val_loss: 0.3068 - val_accuracy: 0.9108\n",
            "Epoch 10/40\n",
            "375/375 [==============================] - 48s 129ms/step - loss: 0.0777 - accuracy: 0.9718 - val_loss: 0.3553 - val_accuracy: 0.9013\n",
            "Epoch 11/40\n",
            "375/375 [==============================] - 48s 127ms/step - loss: 0.0740 - accuracy: 0.9721 - val_loss: 0.3591 - val_accuracy: 0.9130\n",
            "Epoch 12/40\n",
            "375/375 [==============================] - 48s 127ms/step - loss: 0.0650 - accuracy: 0.9764 - val_loss: 0.3862 - val_accuracy: 0.9026\n",
            "Epoch 13/40\n",
            "375/375 [==============================] - 47s 126ms/step - loss: 0.0584 - accuracy: 0.9778 - val_loss: 0.3883 - val_accuracy: 0.9047\n",
            "Epoch 14/40\n",
            "375/375 [==============================] - 48s 128ms/step - loss: 0.0528 - accuracy: 0.9808 - val_loss: 0.4790 - val_accuracy: 0.8915\n",
            "Epoch 15/40\n",
            "375/375 [==============================] - 48s 128ms/step - loss: 0.0435 - accuracy: 0.9839 - val_loss: 0.3611 - val_accuracy: 0.9152\n",
            "Epoch 16/40\n",
            "375/375 [==============================] - 48s 128ms/step - loss: 0.0346 - accuracy: 0.9873 - val_loss: 0.3688 - val_accuracy: 0.9159\n",
            "Epoch 17/40\n",
            "375/375 [==============================] - 47s 127ms/step - loss: 0.0373 - accuracy: 0.9866 - val_loss: 0.4582 - val_accuracy: 0.9018\n",
            "Epoch 18/40\n",
            "375/375 [==============================] - 48s 127ms/step - loss: 0.0359 - accuracy: 0.9873 - val_loss: 0.4284 - val_accuracy: 0.9108\n",
            "Epoch 19/40\n",
            "375/375 [==============================] - 48s 128ms/step - loss: 0.0331 - accuracy: 0.9881 - val_loss: 0.4711 - val_accuracy: 0.9022\n",
            "Epoch 20/40\n",
            "375/375 [==============================] - 48s 128ms/step - loss: 0.0343 - accuracy: 0.9880 - val_loss: 0.4285 - val_accuracy: 0.9132\n",
            "Epoch 21/40\n",
            "375/375 [==============================] - 48s 129ms/step - loss: 0.0281 - accuracy: 0.9906 - val_loss: 0.4638 - val_accuracy: 0.9158\n",
            "Epoch 22/40\n",
            "375/375 [==============================] - 48s 127ms/step - loss: 0.0284 - accuracy: 0.9904 - val_loss: 0.4947 - val_accuracy: 0.9097\n",
            "Epoch 23/40\n",
            "375/375 [==============================] - 48s 129ms/step - loss: 0.0240 - accuracy: 0.9916 - val_loss: 0.5490 - val_accuracy: 0.9043\n",
            "Epoch 24/40\n",
            "375/375 [==============================] - 48s 127ms/step - loss: 0.0258 - accuracy: 0.9908 - val_loss: 0.4636 - val_accuracy: 0.9068\n",
            "Epoch 25/40\n",
            "375/375 [==============================] - 48s 128ms/step - loss: 0.0264 - accuracy: 0.9914 - val_loss: 0.4687 - val_accuracy: 0.9152\n",
            "Epoch 26/40\n",
            "375/375 [==============================] - 48s 128ms/step - loss: 0.0219 - accuracy: 0.9923 - val_loss: 0.6456 - val_accuracy: 0.8892\n",
            "Epoch 27/40\n",
            "375/375 [==============================] - 48s 128ms/step - loss: 0.0236 - accuracy: 0.9917 - val_loss: 0.5314 - val_accuracy: 0.9146\n",
            "Epoch 28/40\n",
            "375/375 [==============================] - 47s 127ms/step - loss: 0.0175 - accuracy: 0.9940 - val_loss: 0.4758 - val_accuracy: 0.9145\n",
            "Epoch 29/40\n",
            "375/375 [==============================] - 48s 128ms/step - loss: 0.0209 - accuracy: 0.9923 - val_loss: 0.5624 - val_accuracy: 0.9101\n",
            "Epoch 30/40\n",
            "375/375 [==============================] - 48s 128ms/step - loss: 0.0223 - accuracy: 0.9922 - val_loss: 0.5860 - val_accuracy: 0.9056\n",
            "Epoch 31/40\n",
            "375/375 [==============================] - 48s 127ms/step - loss: 0.0171 - accuracy: 0.9941 - val_loss: 0.5711 - val_accuracy: 0.9085\n",
            "Epoch 32/40\n",
            "375/375 [==============================] - 48s 128ms/step - loss: 0.0204 - accuracy: 0.9933 - val_loss: 0.5266 - val_accuracy: 0.9122\n",
            "Epoch 33/40\n",
            "375/375 [==============================] - 48s 128ms/step - loss: 0.0182 - accuracy: 0.9941 - val_loss: 0.5385 - val_accuracy: 0.9137\n",
            "Epoch 34/40\n",
            "375/375 [==============================] - 48s 129ms/step - loss: 0.0185 - accuracy: 0.9945 - val_loss: 0.5470 - val_accuracy: 0.9131\n",
            "Epoch 35/40\n",
            "375/375 [==============================] - 49s 129ms/step - loss: 0.0159 - accuracy: 0.9944 - val_loss: 0.6189 - val_accuracy: 0.9037\n",
            "Epoch 36/40\n",
            "375/375 [==============================] - 48s 129ms/step - loss: 0.0162 - accuracy: 0.9947 - val_loss: 0.5548 - val_accuracy: 0.9106\n",
            "Epoch 37/40\n",
            "375/375 [==============================] - 47s 127ms/step - loss: 0.0140 - accuracy: 0.9952 - val_loss: 0.5349 - val_accuracy: 0.9087\n",
            "Epoch 38/40\n",
            "375/375 [==============================] - 48s 129ms/step - loss: 0.0126 - accuracy: 0.9955 - val_loss: 0.6341 - val_accuracy: 0.9094\n",
            "Epoch 39/40\n",
            "375/375 [==============================] - 48s 129ms/step - loss: 0.0188 - accuracy: 0.9941 - val_loss: 0.5253 - val_accuracy: 0.9159\n",
            "Epoch 40/40\n",
            "375/375 [==============================] - 49s 130ms/step - loss: 0.0132 - accuracy: 0.9956 - val_loss: 0.5953 - val_accuracy: 0.9107\n"
          ],
          "name": "stdout"
        }
      ]
    },
    {
      "cell_type": "code",
      "metadata": {
        "id": "_p8aGs5Nax43",
        "colab": {
          "base_uri": "https://localhost:8080/"
        },
        "outputId": "f1c5244a-9c3b-48ca-8369-b095c5a58ccf"
      },
      "source": [
        "_, acc_train = model.evaluate(X_train, Y_train)\r\n",
        "_, acc_val = model.evaluate(X_val, Y_val)\r\n",
        "_, acc_test = model.evaluate(X_test, Y_test)\r\n",
        "print(\"Train Accuracy: {} \\n Val Accuracy: {} \\n Test Accuracy: {}\".format(acc_train, acc_val, acc_test))"
      ],
      "execution_count": 17,
      "outputs": [
        {
          "output_type": "stream",
          "text": [
            "1500/1500 [==============================] - 15s 10ms/step - loss: 0.0233 - accuracy: 0.9924\n",
            "375/375 [==============================] - 4s 10ms/step - loss: 0.5953 - accuracy: 0.9107\n",
            "313/313 [==============================] - 3s 9ms/step - loss: 0.5842 - accuracy: 0.9145\n",
            "Train Accuracy: 0.992354154586792 \n",
            " Val Accuracy: 0.9107499718666077 \n",
            " Test Accuracy: 0.9144999980926514\n"
          ],
          "name": "stdout"
        }
      ]
    },
    {
      "cell_type": "code",
      "metadata": {
        "id": "bHLeTg_iLzrq"
      },
      "source": [
        "#model.save(\"/content/drive/MyDrive/Fashion_MNIST/final_model_fmnist.h5\")"
      ],
      "execution_count": 18,
      "outputs": []
    },
    {
      "cell_type": "markdown",
      "metadata": {
        "id": "pFJgRSDsvuz3"
      },
      "source": [
        "**Viewing the Test Data with Predicted Label**"
      ]
    },
    {
      "cell_type": "code",
      "metadata": {
        "id": "CzUas4cnbBiq"
      },
      "source": [
        "predicted_label = np.squeeze(ohe.inverse_transform(model.predict(X_test)))\n",
        "true_label = np.squeeze(np_test_output)"
      ],
      "execution_count": 19,
      "outputs": []
    },
    {
      "cell_type": "code",
      "metadata": {
        "colab": {
          "base_uri": "https://localhost:8080/",
          "height": 894
        },
        "id": "7N6s_a5Ztn23",
        "outputId": "8925b41c-fec1-4afe-8cb6-fb037be17c71"
      },
      "source": [
        "view_array = np.random.randint(0, len(X_test), size=9)\r\n",
        "fig,ax = plt.subplots(3, 3, figsize = (15,15))\r\n",
        "ax = ax.ravel()\r\n",
        "for i in range(0,9):\r\n",
        "    ax[i].imshow(np.squeeze(X_test[view_array[i]])) # squeezing from (28,28,1) to (28,28) for imshow\r\n",
        "    title = \"True: \" + label_dict[true_label[view_array[i]]] + \"\\n Predicted: \" + label_dict[predicted_label[view_array[i]]] # reverse transforming onehot array and accessing the label's name\r\n",
        "    # in label_dict for the given number. Examine the line separately if you are confused. \r\n",
        "    ax[i].title.set_text(title)"
      ],
      "execution_count": 20,
      "outputs": [
        {
          "output_type": "display_data",
          "data": {
            "image/png": "[encoded data removed]",
            "text/plain": [
              "<Figure size 1080x1080 with 9 Axes>"
            ]
          },
          "metadata": {
            "tags": [],
            "needs_background": "light"
          }
        }
      ]
    },
    {
      "cell_type": "markdown",
      "metadata": {
        "id": "TenFy44Ucoym"
      },
      "source": [
        "**References**\r\n",
        "1. [https://www.kaggle.com/zalando-research/fashionmnist](https://www.kaggle.com/zalando-research/fashionmnist)"
      ]
    }
  ]
}